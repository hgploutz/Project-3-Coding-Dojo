{
 "cells": [
  {
   "cell_type": "markdown",
   "id": "b364c657-0991-42bc-baf8-2257d07671cb",
   "metadata": {},
   "source": [
    "# EDA - Extract from TMDB (Core)"
   ]
  },
  {
   "cell_type": "markdown",
   "id": "412ee183-efe5-44b3-8c69-4b4477e768db",
   "metadata": {},
   "source": [
    "## Deliverables"
   ]
  },
  {
   "cell_type": "markdown",
   "id": "bd8240fa-6603-49a1-9d51-8a193b29c28e",
   "metadata": {},
   "source": [
    "- Save a final merged .csv.gz of all of the tmdb api data\n",
    "- The file name should be \"tmdb_results_combined.csv.gz\"\n",
    "- Make sure this is pushed to your github repository along with all of your code\n",
    "- One code file for API calls\n",
    "- One code file for EDA"
   ]
  },
  {
   "cell_type": "markdown",
   "id": "90378349-9788-49bc-ba3f-6a40eb6cd3dd",
   "metadata": {},
   "source": [
    "## Tasks"
   ]
  },
  {
   "cell_type": "markdown",
   "id": "ebde860c-6539-4a90-a6e7-9f7f1c80de89",
   "metadata": {},
   "source": [
    "1. Load in your csv.gz's of results for each year extracted.\n",
    "> - Concatenate the data into 1 dataframe for the remainder of the analysis.\n",
    "2. Once you have your data from the API, they would like you to perform some light EDA to show:\n",
    "> 1. How many movies had at least some valid financial information (values > 0 for budget OR revenue)?\n",
    ">> - Please exclude any movies with 0's for budget AND revenue from the remaining visualizations.\n",
    "> 2. How many movies are there in each of the certification categories (G/PG/PG-13/R)?\n",
    "> 3. What is the average revenue per certification category?\n",
    "> 4. What is the average budget per certification category?"
   ]
  },
  {
   "cell_type": "markdown",
   "id": "0bad35e3-7cab-4532-95b2-3d84b0824f4a",
   "metadata": {},
   "source": [
    "## Imports"
   ]
  },
  {
   "cell_type": "code",
   "execution_count": 2,
   "id": "72f3128c-432f-48ef-b6db-0e0911d7324c",
   "metadata": {},
   "outputs": [],
   "source": [
    "import pandas as pd\n",
    "import numpy as np\n",
    "import json\n",
    "import tmdbsimple as tmdb\n",
    "from tqdm.notebook import tqdm_notebook"
   ]
  },
  {
   "cell_type": "markdown",
   "id": "736bd637-487c-4eb9-92c7-b51dd1b6fa06",
   "metadata": {},
   "source": [
    "## Functions"
   ]
  },
  {
   "cell_type": "markdown",
   "id": "3ab85c22-1dff-463e-8736-409e98db0c62",
   "metadata": {},
   "source": [
    "## Load & Inspect the Data"
   ]
  },
  {
   "cell_type": "code",
   "execution_count": 3,
   "id": "90467e15-8aaf-4a60-bea0-afda991aea04",
   "metadata": {},
   "outputs": [],
   "source": [
    "#load the 2000 data created from the API calls section\n",
    "df_2000 = pd.read_csv(\"Data/final_tmdb_data_2000.csv.gz\", low_memory = False)"
   ]
  },
  {
   "cell_type": "code",
   "execution_count": 4,
   "id": "4a69ee33-2b3a-4c9e-8b27-c0753ed63e98",
   "metadata": {},
   "outputs": [],
   "source": [
    "#Load the 2001 data created from the API calls section\n",
    "df_2001 = pd.read_csv(\"Data/final_tmdb_data_2001.csv.gz\", low_memory = False)"
   ]
  },
  {
   "cell_type": "code",
   "execution_count": 5,
   "id": "30423ef2-794a-42fb-88a2-68d03eb59da8",
   "metadata": {},
   "outputs": [
    {
     "data": {
      "text/html": [
       "<div>\n",
       "<style scoped>\n",
       "    .dataframe tbody tr th:only-of-type {\n",
       "        vertical-align: middle;\n",
       "    }\n",
       "\n",
       "    .dataframe tbody tr th {\n",
       "        vertical-align: top;\n",
       "    }\n",
       "\n",
       "    .dataframe thead th {\n",
       "        text-align: right;\n",
       "    }\n",
       "</style>\n",
       "<table border=\"1\" class=\"dataframe\">\n",
       "  <thead>\n",
       "    <tr style=\"text-align: right;\">\n",
       "      <th></th>\n",
       "      <th>imdb_id</th>\n",
       "      <th>adult</th>\n",
       "      <th>backdrop_path</th>\n",
       "      <th>belongs_to_collection</th>\n",
       "      <th>budget</th>\n",
       "      <th>genres</th>\n",
       "      <th>homepage</th>\n",
       "      <th>id</th>\n",
       "      <th>original_language</th>\n",
       "      <th>original_title</th>\n",
       "      <th>...</th>\n",
       "      <th>revenue</th>\n",
       "      <th>runtime</th>\n",
       "      <th>spoken_languages</th>\n",
       "      <th>status</th>\n",
       "      <th>tagline</th>\n",
       "      <th>title</th>\n",
       "      <th>video</th>\n",
       "      <th>vote_average</th>\n",
       "      <th>vote_count</th>\n",
       "      <th>certification</th>\n",
       "    </tr>\n",
       "  </thead>\n",
       "  <tbody>\n",
       "    <tr>\n",
       "      <th>0</th>\n",
       "      <td>0</td>\n",
       "      <td>NaN</td>\n",
       "      <td>NaN</td>\n",
       "      <td>NaN</td>\n",
       "      <td>NaN</td>\n",
       "      <td>NaN</td>\n",
       "      <td>NaN</td>\n",
       "      <td>NaN</td>\n",
       "      <td>NaN</td>\n",
       "      <td>NaN</td>\n",
       "      <td>...</td>\n",
       "      <td>NaN</td>\n",
       "      <td>NaN</td>\n",
       "      <td>NaN</td>\n",
       "      <td>NaN</td>\n",
       "      <td>NaN</td>\n",
       "      <td>NaN</td>\n",
       "      <td>NaN</td>\n",
       "      <td>NaN</td>\n",
       "      <td>NaN</td>\n",
       "      <td>NaN</td>\n",
       "    </tr>\n",
       "    <tr>\n",
       "      <th>1</th>\n",
       "      <td>tt0035423</td>\n",
       "      <td>0.0</td>\n",
       "      <td>/hfeiSfWYujh6MKhtGTXyK3DD4nN.jpg</td>\n",
       "      <td>NaN</td>\n",
       "      <td>48000000.0</td>\n",
       "      <td>[{'id': 10749, 'name': 'Romance'}, {'id': 14, ...</td>\n",
       "      <td>NaN</td>\n",
       "      <td>11232.0</td>\n",
       "      <td>en</td>\n",
       "      <td>Kate &amp; Leopold</td>\n",
       "      <td>...</td>\n",
       "      <td>76019048.0</td>\n",
       "      <td>118.0</td>\n",
       "      <td>[{'english_name': 'English', 'iso_639_1': 'en'...</td>\n",
       "      <td>Released</td>\n",
       "      <td>If they lived in the same century, they'd be p...</td>\n",
       "      <td>Kate &amp; Leopold</td>\n",
       "      <td>0.0</td>\n",
       "      <td>6.33</td>\n",
       "      <td>1195.0</td>\n",
       "      <td>PG-13</td>\n",
       "    </tr>\n",
       "  </tbody>\n",
       "</table>\n",
       "<p>2 rows × 26 columns</p>\n",
       "</div>"
      ],
      "text/plain": [
       "     imdb_id  adult                     backdrop_path belongs_to_collection  \\\n",
       "0          0    NaN                               NaN                   NaN   \n",
       "1  tt0035423    0.0  /hfeiSfWYujh6MKhtGTXyK3DD4nN.jpg                   NaN   \n",
       "\n",
       "       budget                                             genres homepage  \\\n",
       "0         NaN                                                NaN      NaN   \n",
       "1  48000000.0  [{'id': 10749, 'name': 'Romance'}, {'id': 14, ...      NaN   \n",
       "\n",
       "        id original_language  original_title  ...     revenue  runtime  \\\n",
       "0      NaN               NaN             NaN  ...         NaN      NaN   \n",
       "1  11232.0                en  Kate & Leopold  ...  76019048.0    118.0   \n",
       "\n",
       "                                    spoken_languages    status  \\\n",
       "0                                                NaN       NaN   \n",
       "1  [{'english_name': 'English', 'iso_639_1': 'en'...  Released   \n",
       "\n",
       "                                             tagline           title  video  \\\n",
       "0                                                NaN             NaN    NaN   \n",
       "1  If they lived in the same century, they'd be p...  Kate & Leopold    0.0   \n",
       "\n",
       "   vote_average vote_count certification  \n",
       "0           NaN        NaN           NaN  \n",
       "1          6.33     1195.0         PG-13  \n",
       "\n",
       "[2 rows x 26 columns]"
      ]
     },
     "execution_count": 5,
     "metadata": {},
     "output_type": "execute_result"
    }
   ],
   "source": [
    "df_2001.head(2)"
   ]
  },
  {
   "cell_type": "code",
   "execution_count": 6,
   "id": "5dc428a8-2a5d-4fdf-8881-e77d8248ccb6",
   "metadata": {},
   "outputs": [
    {
     "data": {
      "text/html": [
       "<div>\n",
       "<style scoped>\n",
       "    .dataframe tbody tr th:only-of-type {\n",
       "        vertical-align: middle;\n",
       "    }\n",
       "\n",
       "    .dataframe tbody tr th {\n",
       "        vertical-align: top;\n",
       "    }\n",
       "\n",
       "    .dataframe thead th {\n",
       "        text-align: right;\n",
       "    }\n",
       "</style>\n",
       "<table border=\"1\" class=\"dataframe\">\n",
       "  <thead>\n",
       "    <tr style=\"text-align: right;\">\n",
       "      <th></th>\n",
       "      <th>imdb_id</th>\n",
       "      <th>adult</th>\n",
       "      <th>backdrop_path</th>\n",
       "      <th>belongs_to_collection</th>\n",
       "      <th>budget</th>\n",
       "      <th>genres</th>\n",
       "      <th>homepage</th>\n",
       "      <th>id</th>\n",
       "      <th>original_language</th>\n",
       "      <th>original_title</th>\n",
       "      <th>...</th>\n",
       "      <th>revenue</th>\n",
       "      <th>runtime</th>\n",
       "      <th>spoken_languages</th>\n",
       "      <th>status</th>\n",
       "      <th>tagline</th>\n",
       "      <th>title</th>\n",
       "      <th>video</th>\n",
       "      <th>vote_average</th>\n",
       "      <th>vote_count</th>\n",
       "      <th>certification</th>\n",
       "    </tr>\n",
       "  </thead>\n",
       "  <tbody>\n",
       "    <tr>\n",
       "      <th>0</th>\n",
       "      <td>0</td>\n",
       "      <td>NaN</td>\n",
       "      <td>NaN</td>\n",
       "      <td>NaN</td>\n",
       "      <td>NaN</td>\n",
       "      <td>NaN</td>\n",
       "      <td>NaN</td>\n",
       "      <td>NaN</td>\n",
       "      <td>NaN</td>\n",
       "      <td>NaN</td>\n",
       "      <td>...</td>\n",
       "      <td>NaN</td>\n",
       "      <td>NaN</td>\n",
       "      <td>NaN</td>\n",
       "      <td>NaN</td>\n",
       "      <td>NaN</td>\n",
       "      <td>NaN</td>\n",
       "      <td>NaN</td>\n",
       "      <td>NaN</td>\n",
       "      <td>NaN</td>\n",
       "      <td>NaN</td>\n",
       "    </tr>\n",
       "    <tr>\n",
       "      <th>1</th>\n",
       "      <td>tt0113026</td>\n",
       "      <td>0.0</td>\n",
       "      <td>/vMFs7nw6P0bIV1jDsQpxAieAVnH.jpg</td>\n",
       "      <td>NaN</td>\n",
       "      <td>10000000.0</td>\n",
       "      <td>[{'id': 35, 'name': 'Comedy'}, {'id': 10402, '...</td>\n",
       "      <td>NaN</td>\n",
       "      <td>62127.0</td>\n",
       "      <td>en</td>\n",
       "      <td>The Fantasticks</td>\n",
       "      <td>...</td>\n",
       "      <td>0.0</td>\n",
       "      <td>86.0</td>\n",
       "      <td>[{'english_name': 'English', 'iso_639_1': 'en'...</td>\n",
       "      <td>Released</td>\n",
       "      <td>Try to remember the first time magic happened</td>\n",
       "      <td>The Fantasticks</td>\n",
       "      <td>0.0</td>\n",
       "      <td>5.5</td>\n",
       "      <td>22.0</td>\n",
       "      <td>NaN</td>\n",
       "    </tr>\n",
       "  </tbody>\n",
       "</table>\n",
       "<p>2 rows × 26 columns</p>\n",
       "</div>"
      ],
      "text/plain": [
       "     imdb_id  adult                     backdrop_path belongs_to_collection  \\\n",
       "0          0    NaN                               NaN                   NaN   \n",
       "1  tt0113026    0.0  /vMFs7nw6P0bIV1jDsQpxAieAVnH.jpg                   NaN   \n",
       "\n",
       "       budget                                             genres homepage  \\\n",
       "0         NaN                                                NaN      NaN   \n",
       "1  10000000.0  [{'id': 35, 'name': 'Comedy'}, {'id': 10402, '...      NaN   \n",
       "\n",
       "        id original_language   original_title  ... revenue  runtime  \\\n",
       "0      NaN               NaN              NaN  ...     NaN      NaN   \n",
       "1  62127.0                en  The Fantasticks  ...     0.0     86.0   \n",
       "\n",
       "                                    spoken_languages    status  \\\n",
       "0                                                NaN       NaN   \n",
       "1  [{'english_name': 'English', 'iso_639_1': 'en'...  Released   \n",
       "\n",
       "                                         tagline            title  video  \\\n",
       "0                                            NaN              NaN    NaN   \n",
       "1  Try to remember the first time magic happened  The Fantasticks    0.0   \n",
       "\n",
       "   vote_average vote_count certification  \n",
       "0           NaN        NaN           NaN  \n",
       "1           5.5       22.0           NaN  \n",
       "\n",
       "[2 rows x 26 columns]"
      ]
     },
     "execution_count": 6,
     "metadata": {},
     "output_type": "execute_result"
    }
   ],
   "source": [
    "df_2000.head(2)"
   ]
  },
  {
   "cell_type": "code",
   "execution_count": 7,
   "id": "d1030621-86d6-4faf-a66e-5db2992cb5b6",
   "metadata": {},
   "outputs": [
    {
     "name": "stdout",
     "output_type": "stream",
     "text": [
      "<class 'pandas.core.frame.DataFrame'>\n",
      "RangeIndex: 1241 entries, 0 to 1240\n",
      "Data columns (total 26 columns):\n",
      " #   Column                 Non-Null Count  Dtype  \n",
      "---  ------                 --------------  -----  \n",
      " 0   imdb_id                1241 non-null   object \n",
      " 1   adult                  1240 non-null   float64\n",
      " 2   backdrop_path          690 non-null    object \n",
      " 3   belongs_to_collection  116 non-null    object \n",
      " 4   budget                 1240 non-null   float64\n",
      " 5   genres                 1240 non-null   object \n",
      " 6   homepage               63 non-null     object \n",
      " 7   id                     1240 non-null   float64\n",
      " 8   original_language      1240 non-null   object \n",
      " 9   original_title         1240 non-null   object \n",
      " 10  overview               1219 non-null   object \n",
      " 11  popularity             1240 non-null   float64\n",
      " 12  poster_path            1119 non-null   object \n",
      " 13  production_companies   1240 non-null   object \n",
      " 14  production_countries   1240 non-null   object \n",
      " 15  release_date           1231 non-null   object \n",
      " 16  revenue                1240 non-null   float64\n",
      " 17  runtime                1240 non-null   float64\n",
      " 18  spoken_languages       1240 non-null   object \n",
      " 19  status                 1240 non-null   object \n",
      " 20  tagline                554 non-null    object \n",
      " 21  title                  1240 non-null   object \n",
      " 22  video                  1240 non-null   float64\n",
      " 23  vote_average           1240 non-null   float64\n",
      " 24  vote_count             1240 non-null   float64\n",
      " 25  certification          393 non-null    object \n",
      "dtypes: float64(9), object(17)\n",
      "memory usage: 252.2+ KB\n"
     ]
    }
   ],
   "source": [
    "df_2000.info()"
   ]
  },
  {
   "cell_type": "code",
   "execution_count": 8,
   "id": "5c3fc270-836c-434c-8167-2e81d30259c0",
   "metadata": {},
   "outputs": [
    {
     "name": "stdout",
     "output_type": "stream",
     "text": [
      "<class 'pandas.core.frame.DataFrame'>\n",
      "RangeIndex: 1337 entries, 0 to 1336\n",
      "Data columns (total 26 columns):\n",
      " #   Column                 Non-Null Count  Dtype  \n",
      "---  ------                 --------------  -----  \n",
      " 0   imdb_id                1337 non-null   object \n",
      " 1   adult                  1336 non-null   float64\n",
      " 2   backdrop_path          720 non-null    object \n",
      " 3   belongs_to_collection  92 non-null     object \n",
      " 4   budget                 1336 non-null   float64\n",
      " 5   genres                 1336 non-null   object \n",
      " 6   homepage               108 non-null    object \n",
      " 7   id                     1336 non-null   float64\n",
      " 8   original_language      1336 non-null   object \n",
      " 9   original_title         1336 non-null   object \n",
      " 10  overview               1308 non-null   object \n",
      " 11  popularity             1336 non-null   float64\n",
      " 12  poster_path            1201 non-null   object \n",
      " 13  production_companies   1336 non-null   object \n",
      " 14  production_countries   1336 non-null   object \n",
      " 15  release_date           1321 non-null   object \n",
      " 16  revenue                1336 non-null   float64\n",
      " 17  runtime                1336 non-null   float64\n",
      " 18  spoken_languages       1336 non-null   object \n",
      " 19  status                 1336 non-null   object \n",
      " 20  tagline                554 non-null    object \n",
      " 21  title                  1336 non-null   object \n",
      " 22  video                  1336 non-null   float64\n",
      " 23  vote_average           1336 non-null   float64\n",
      " 24  vote_count             1336 non-null   float64\n",
      " 25  certification          421 non-null    object \n",
      "dtypes: float64(9), object(17)\n",
      "memory usage: 271.7+ KB\n"
     ]
    }
   ],
   "source": [
    "df_2001.info()"
   ]
  },
  {
   "cell_type": "markdown",
   "id": "ba6b2c39-9ac7-4140-85e0-562a4a7259a9",
   "metadata": {},
   "source": [
    "## Combine the Data"
   ]
  },
  {
   "cell_type": "code",
   "execution_count": 9,
   "id": "44837489-5cc8-42f5-8e1c-6df2cc387e09",
   "metadata": {},
   "outputs": [
    {
     "data": {
      "text/html": [
       "<div>\n",
       "<style scoped>\n",
       "    .dataframe tbody tr th:only-of-type {\n",
       "        vertical-align: middle;\n",
       "    }\n",
       "\n",
       "    .dataframe tbody tr th {\n",
       "        vertical-align: top;\n",
       "    }\n",
       "\n",
       "    .dataframe thead th {\n",
       "        text-align: right;\n",
       "    }\n",
       "</style>\n",
       "<table border=\"1\" class=\"dataframe\">\n",
       "  <thead>\n",
       "    <tr style=\"text-align: right;\">\n",
       "      <th></th>\n",
       "      <th>imdb_id</th>\n",
       "      <th>adult</th>\n",
       "      <th>backdrop_path</th>\n",
       "      <th>belongs_to_collection</th>\n",
       "      <th>budget</th>\n",
       "      <th>genres</th>\n",
       "      <th>homepage</th>\n",
       "      <th>id</th>\n",
       "      <th>original_language</th>\n",
       "      <th>original_title</th>\n",
       "      <th>...</th>\n",
       "      <th>revenue</th>\n",
       "      <th>runtime</th>\n",
       "      <th>spoken_languages</th>\n",
       "      <th>status</th>\n",
       "      <th>tagline</th>\n",
       "      <th>title</th>\n",
       "      <th>video</th>\n",
       "      <th>vote_average</th>\n",
       "      <th>vote_count</th>\n",
       "      <th>certification</th>\n",
       "    </tr>\n",
       "  </thead>\n",
       "  <tbody>\n",
       "    <tr>\n",
       "      <th>0</th>\n",
       "      <td>0</td>\n",
       "      <td>NaN</td>\n",
       "      <td>NaN</td>\n",
       "      <td>NaN</td>\n",
       "      <td>NaN</td>\n",
       "      <td>NaN</td>\n",
       "      <td>NaN</td>\n",
       "      <td>NaN</td>\n",
       "      <td>NaN</td>\n",
       "      <td>NaN</td>\n",
       "      <td>...</td>\n",
       "      <td>NaN</td>\n",
       "      <td>NaN</td>\n",
       "      <td>NaN</td>\n",
       "      <td>NaN</td>\n",
       "      <td>NaN</td>\n",
       "      <td>NaN</td>\n",
       "      <td>NaN</td>\n",
       "      <td>NaN</td>\n",
       "      <td>NaN</td>\n",
       "      <td>NaN</td>\n",
       "    </tr>\n",
       "    <tr>\n",
       "      <th>1</th>\n",
       "      <td>tt0113026</td>\n",
       "      <td>0.0</td>\n",
       "      <td>/vMFs7nw6P0bIV1jDsQpxAieAVnH.jpg</td>\n",
       "      <td>NaN</td>\n",
       "      <td>10000000.0</td>\n",
       "      <td>[{'id': 35, 'name': 'Comedy'}, {'id': 10402, '...</td>\n",
       "      <td>NaN</td>\n",
       "      <td>62127.0</td>\n",
       "      <td>en</td>\n",
       "      <td>The Fantasticks</td>\n",
       "      <td>...</td>\n",
       "      <td>0.0</td>\n",
       "      <td>86.0</td>\n",
       "      <td>[{'english_name': 'English', 'iso_639_1': 'en'...</td>\n",
       "      <td>Released</td>\n",
       "      <td>Try to remember the first time magic happened</td>\n",
       "      <td>The Fantasticks</td>\n",
       "      <td>0.0</td>\n",
       "      <td>5.500</td>\n",
       "      <td>22.0</td>\n",
       "      <td>NaN</td>\n",
       "    </tr>\n",
       "    <tr>\n",
       "      <th>2</th>\n",
       "      <td>tt0113092</td>\n",
       "      <td>0.0</td>\n",
       "      <td>NaN</td>\n",
       "      <td>NaN</td>\n",
       "      <td>0.0</td>\n",
       "      <td>[{'id': 878, 'name': 'Science Fiction'}]</td>\n",
       "      <td>NaN</td>\n",
       "      <td>110977.0</td>\n",
       "      <td>en</td>\n",
       "      <td>For the Cause</td>\n",
       "      <td>...</td>\n",
       "      <td>0.0</td>\n",
       "      <td>100.0</td>\n",
       "      <td>[{'english_name': 'English', 'iso_639_1': 'en'...</td>\n",
       "      <td>Released</td>\n",
       "      <td>The ultimate showdown on a forbidden planet.</td>\n",
       "      <td>For the Cause</td>\n",
       "      <td>0.0</td>\n",
       "      <td>5.100</td>\n",
       "      <td>8.0</td>\n",
       "      <td>NaN</td>\n",
       "    </tr>\n",
       "    <tr>\n",
       "      <th>3</th>\n",
       "      <td>tt0116391</td>\n",
       "      <td>0.0</td>\n",
       "      <td>NaN</td>\n",
       "      <td>NaN</td>\n",
       "      <td>0.0</td>\n",
       "      <td>[{'id': 18, 'name': 'Drama'}, {'id': 28, 'name...</td>\n",
       "      <td>NaN</td>\n",
       "      <td>442869.0</td>\n",
       "      <td>hi</td>\n",
       "      <td>Gang</td>\n",
       "      <td>...</td>\n",
       "      <td>0.0</td>\n",
       "      <td>152.0</td>\n",
       "      <td>[{'english_name': 'Hindi', 'iso_639_1': 'hi', ...</td>\n",
       "      <td>Released</td>\n",
       "      <td>NaN</td>\n",
       "      <td>Gang</td>\n",
       "      <td>0.0</td>\n",
       "      <td>4.000</td>\n",
       "      <td>1.0</td>\n",
       "      <td>NaN</td>\n",
       "    </tr>\n",
       "    <tr>\n",
       "      <th>4</th>\n",
       "      <td>tt0118694</td>\n",
       "      <td>0.0</td>\n",
       "      <td>/n4GJFGzsc7NinI1VeGDXIcQjtU2.jpg</td>\n",
       "      <td>{'id': 1131062, 'name': 'Wong Kar-Wai’s Love T...</td>\n",
       "      <td>150000.0</td>\n",
       "      <td>[{'id': 18, 'name': 'Drama'}, {'id': 10749, 'n...</td>\n",
       "      <td>NaN</td>\n",
       "      <td>843.0</td>\n",
       "      <td>cn</td>\n",
       "      <td>花樣年華</td>\n",
       "      <td>...</td>\n",
       "      <td>14204632.0</td>\n",
       "      <td>99.0</td>\n",
       "      <td>[{'english_name': 'Cantonese', 'iso_639_1': 'c...</td>\n",
       "      <td>Released</td>\n",
       "      <td>Feel the heat, keep the feeling burning, let t...</td>\n",
       "      <td>In the Mood for Love</td>\n",
       "      <td>0.0</td>\n",
       "      <td>8.109</td>\n",
       "      <td>2229.0</td>\n",
       "      <td>PG</td>\n",
       "    </tr>\n",
       "  </tbody>\n",
       "</table>\n",
       "<p>5 rows × 26 columns</p>\n",
       "</div>"
      ],
      "text/plain": [
       "     imdb_id  adult                     backdrop_path  \\\n",
       "0          0    NaN                               NaN   \n",
       "1  tt0113026    0.0  /vMFs7nw6P0bIV1jDsQpxAieAVnH.jpg   \n",
       "2  tt0113092    0.0                               NaN   \n",
       "3  tt0116391    0.0                               NaN   \n",
       "4  tt0118694    0.0  /n4GJFGzsc7NinI1VeGDXIcQjtU2.jpg   \n",
       "\n",
       "                               belongs_to_collection      budget  \\\n",
       "0                                                NaN         NaN   \n",
       "1                                                NaN  10000000.0   \n",
       "2                                                NaN         0.0   \n",
       "3                                                NaN         0.0   \n",
       "4  {'id': 1131062, 'name': 'Wong Kar-Wai’s Love T...    150000.0   \n",
       "\n",
       "                                              genres homepage        id  \\\n",
       "0                                                NaN      NaN       NaN   \n",
       "1  [{'id': 35, 'name': 'Comedy'}, {'id': 10402, '...      NaN   62127.0   \n",
       "2           [{'id': 878, 'name': 'Science Fiction'}]      NaN  110977.0   \n",
       "3  [{'id': 18, 'name': 'Drama'}, {'id': 28, 'name...      NaN  442869.0   \n",
       "4  [{'id': 18, 'name': 'Drama'}, {'id': 10749, 'n...      NaN     843.0   \n",
       "\n",
       "  original_language   original_title  ...     revenue  runtime  \\\n",
       "0               NaN              NaN  ...         NaN      NaN   \n",
       "1                en  The Fantasticks  ...         0.0     86.0   \n",
       "2                en    For the Cause  ...         0.0    100.0   \n",
       "3                hi             Gang  ...         0.0    152.0   \n",
       "4                cn             花樣年華  ...  14204632.0     99.0   \n",
       "\n",
       "                                    spoken_languages    status  \\\n",
       "0                                                NaN       NaN   \n",
       "1  [{'english_name': 'English', 'iso_639_1': 'en'...  Released   \n",
       "2  [{'english_name': 'English', 'iso_639_1': 'en'...  Released   \n",
       "3  [{'english_name': 'Hindi', 'iso_639_1': 'hi', ...  Released   \n",
       "4  [{'english_name': 'Cantonese', 'iso_639_1': 'c...  Released   \n",
       "\n",
       "                                             tagline                 title  \\\n",
       "0                                                NaN                   NaN   \n",
       "1      Try to remember the first time magic happened       The Fantasticks   \n",
       "2       The ultimate showdown on a forbidden planet.         For the Cause   \n",
       "3                                                NaN                  Gang   \n",
       "4  Feel the heat, keep the feeling burning, let t...  In the Mood for Love   \n",
       "\n",
       "   video  vote_average vote_count certification  \n",
       "0    NaN           NaN        NaN           NaN  \n",
       "1    0.0         5.500       22.0           NaN  \n",
       "2    0.0         5.100        8.0           NaN  \n",
       "3    0.0         4.000        1.0           NaN  \n",
       "4    0.0         8.109     2229.0            PG  \n",
       "\n",
       "[5 rows x 26 columns]"
      ]
     },
     "execution_count": 9,
     "metadata": {},
     "output_type": "execute_result"
    }
   ],
   "source": [
    "#Concatenate both data sources into one\n",
    "merged_df = pd.concat((df_2000, df_2001), axis = 0)\n",
    "merged_df.head()"
   ]
  },
  {
   "cell_type": "code",
   "execution_count": 10,
   "id": "101dc9cd-025d-4e5c-971e-075bbc8a7d47",
   "metadata": {},
   "outputs": [
    {
     "name": "stdout",
     "output_type": "stream",
     "text": [
      "<class 'pandas.core.frame.DataFrame'>\n",
      "Int64Index: 2578 entries, 0 to 1336\n",
      "Data columns (total 26 columns):\n",
      " #   Column                 Non-Null Count  Dtype  \n",
      "---  ------                 --------------  -----  \n",
      " 0   imdb_id                2578 non-null   object \n",
      " 1   adult                  2576 non-null   float64\n",
      " 2   backdrop_path          1410 non-null   object \n",
      " 3   belongs_to_collection  208 non-null    object \n",
      " 4   budget                 2576 non-null   float64\n",
      " 5   genres                 2576 non-null   object \n",
      " 6   homepage               171 non-null    object \n",
      " 7   id                     2576 non-null   float64\n",
      " 8   original_language      2576 non-null   object \n",
      " 9   original_title         2576 non-null   object \n",
      " 10  overview               2527 non-null   object \n",
      " 11  popularity             2576 non-null   float64\n",
      " 12  poster_path            2320 non-null   object \n",
      " 13  production_companies   2576 non-null   object \n",
      " 14  production_countries   2576 non-null   object \n",
      " 15  release_date           2552 non-null   object \n",
      " 16  revenue                2576 non-null   float64\n",
      " 17  runtime                2576 non-null   float64\n",
      " 18  spoken_languages       2576 non-null   object \n",
      " 19  status                 2576 non-null   object \n",
      " 20  tagline                1108 non-null   object \n",
      " 21  title                  2576 non-null   object \n",
      " 22  video                  2576 non-null   float64\n",
      " 23  vote_average           2576 non-null   float64\n",
      " 24  vote_count             2576 non-null   float64\n",
      " 25  certification          814 non-null    object \n",
      "dtypes: float64(9), object(17)\n",
      "memory usage: 543.8+ KB\n"
     ]
    }
   ],
   "source": [
    "merged_df.info()"
   ]
  },
  {
   "cell_type": "markdown",
   "id": "24cd8f4e-8c69-4844-8c58-5a0dd551751a",
   "metadata": {},
   "source": [
    "## EDA"
   ]
  },
  {
   "cell_type": "markdown",
   "id": "15f78b53-be08-480b-8a7e-20511435bdb4",
   "metadata": {},
   "source": [
    "**1.) How many movies had at least some valid financial information (values > 0 for budget OR revenue)?** <br>\n",
    "*Please exclude any movies with 0's for budget AND revenue from the remaining visualizations.*"
   ]
  },
  {
   "cell_type": "code",
   "execution_count": 11,
   "id": "b878a54a-3b06-43d8-b6a4-50e2de3092f4",
   "metadata": {},
   "outputs": [],
   "source": [
    "#dropping rows where the movie has a 0 for budget and revenue\n",
    "merged_df_filtered = merged_df[merged_df['budget'] != 0]"
   ]
  },
  {
   "cell_type": "code",
   "execution_count": 12,
   "id": "a4312b3b-f12d-42c3-8382-3046354c4ec5",
   "metadata": {},
   "outputs": [],
   "source": [
    "#dropping rows where the movie has a 0 for budget and revenue\n",
    "merged_df_filtered = merged_df[merged_df['revenue'] != 0]"
   ]
  },
  {
   "cell_type": "code",
   "execution_count": 13,
   "id": "dd7f876c-e008-4549-ba80-80dc3335c140",
   "metadata": {},
   "outputs": [
    {
     "name": "stdout",
     "output_type": "stream",
     "text": [
      "There are 450 movies that have at least some form of valid financial information\n"
     ]
    }
   ],
   "source": [
    "print(f'There are {merged_df_filtered.shape[0]} movies that have at least some form of valid financial information')"
   ]
  },
  {
   "cell_type": "markdown",
   "id": "409c9ed3-1c59-4175-8d1b-3678e66742e5",
   "metadata": {},
   "source": [
    "**2.) How many movies are there in each of the certification categories (G/PG/PG-13/R)?**"
   ]
  },
  {
   "cell_type": "code",
   "execution_count": 14,
   "id": "0deca6a3-8b9e-467c-aa63-e9a400fdeefb",
   "metadata": {},
   "outputs": [
    {
     "name": "stdout",
     "output_type": "stream",
     "text": [
      "certification\n",
      "G         15\n",
      "NR        12\n",
      "PG        31\n",
      "PG-13    123\n",
      "R        170\n",
      "dtype: int64\n"
     ]
    }
   ],
   "source": [
    "# Group the DataFrame by \"Certification\" and calculate the sum\n",
    "movies_per_certification = merged_df_filtered.groupby('certification').size()\n",
    "\n",
    "# Display the resulting DataFrame\n",
    "print(movies_per_certification)"
   ]
  },
  {
   "cell_type": "markdown",
   "id": "9ad2a2da-f368-42f7-b175-215a7dd6c7e0",
   "metadata": {},
   "source": [
    "- Based on grouping by certification category, R movies account for the largest number"
   ]
  },
  {
   "cell_type": "markdown",
   "id": "042cc38f-528c-4d63-84e2-521b8cc00baa",
   "metadata": {},
   "source": [
    "**3.) What is the average revenue per certification category?**"
   ]
  },
  {
   "cell_type": "code",
   "execution_count": 15,
   "id": "3b034afb-06cd-4996-b4ac-0817de58b6cc",
   "metadata": {},
   "outputs": [
    {
     "name": "stdout",
     "output_type": "stream",
     "text": [
      "certification\n",
      "G        1.173648e+08\n",
      "NR       1.358396e+07\n",
      "PG       1.249603e+08\n",
      "PG-13    1.057456e+08\n",
      "R        4.430799e+07\n",
      "Name: revenue, dtype: float64\n"
     ]
    }
   ],
   "source": [
    "# Group the DataFrame by \"Certification\" and find the average revenue for each\n",
    "average_revenue_certification = merged_df_filtered.groupby('certification')['revenue'].mean()\n",
    "\n",
    "# Display the resulting DataFrame\n",
    "print(average_revenue_certification)"
   ]
  },
  {
   "cell_type": "markdown",
   "id": "5d753e69-65c4-466b-816b-9cea83d3a7a2",
   "metadata": {},
   "source": [
    "- Based on grouping by certification category, R movies have made the most revenue"
   ]
  },
  {
   "cell_type": "markdown",
   "id": "18c70935-6a2c-4ad4-ac6a-e82d1d1c2749",
   "metadata": {},
   "source": [
    "**4.) What is the average budget per certification category?**"
   ]
  },
  {
   "cell_type": "code",
   "execution_count": 16,
   "id": "5dfd726d-7192-414d-9854-dfe0eb049335",
   "metadata": {},
   "outputs": [
    {
     "name": "stdout",
     "output_type": "stream",
     "text": [
      "certification\n",
      "G        3.813333e+07\n",
      "NR       7.891667e+06\n",
      "PG       5.029830e+07\n",
      "PG-13    4.435282e+07\n",
      "R        2.248008e+07\n",
      "Name: budget, dtype: float64\n"
     ]
    }
   ],
   "source": [
    "# Group the DataFrame by \"Certification\" and find the average budget for each\n",
    "average_budget_certification = merged_df_filtered.groupby('certification')['budget'].mean()\n",
    "\n",
    "# Display the resulting DataFrame\n",
    "print(average_budget_certification)"
   ]
  },
  {
   "cell_type": "markdown",
   "id": "7ffd2541-7ee9-4d15-9759-8d2517e8cdd1",
   "metadata": {},
   "source": [
    "- Based on grouping by certification category, NR movies seems to have the highest budget"
   ]
  },
  {
   "cell_type": "markdown",
   "id": "5f538f7f-aa62-4dfa-b93a-2c96486fc8c2",
   "metadata": {},
   "source": [
    "### Export to csv.gz"
   ]
  },
  {
   "cell_type": "code",
   "execution_count": 17,
   "id": "29e9d2e5-f65a-4bf5-9281-9a0a902ca95d",
   "metadata": {},
   "outputs": [],
   "source": [
    "## Save current unfiltered dataframe to file.\n",
    "merged_df.to_csv(\"Data/tmdb_results_combined.csv.gz\",compression='gzip',index=False)"
   ]
  },
  {
   "cell_type": "code",
   "execution_count": null,
   "id": "edf4abcd-bc12-406e-aac1-930e317e823e",
   "metadata": {},
   "outputs": [],
   "source": []
  }
 ],
 "metadata": {
  "kernelspec": {
   "display_name": "Python (dojo-env)",
   "language": "python",
   "name": "dojo-env"
  },
  "language_info": {
   "codemirror_mode": {
    "name": "ipython",
    "version": 3
   },
   "file_extension": ".py",
   "mimetype": "text/x-python",
   "name": "python",
   "nbconvert_exporter": "python",
   "pygments_lexer": "ipython3",
   "version": "3.9.15"
  }
 },
 "nbformat": 4,
 "nbformat_minor": 5
}
